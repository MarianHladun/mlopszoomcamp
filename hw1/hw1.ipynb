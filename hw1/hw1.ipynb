{
 "cells": [
  {
   "cell_type": "code",
   "execution_count": 1,
   "id": "e9795f99",
   "metadata": {},
   "outputs": [
    {
     "name": "stdout",
     "output_type": "stream",
     "text": [
      "Requirement already satisfied: pyarrow in /home/codespace/anaconda3/lib/python3.9/site-packages (19.0.1)\r\n"
     ]
    }
   ],
   "source": [
    "!pip install pyarrow"
   ]
  },
  {
   "cell_type": "code",
   "execution_count": 2,
   "id": "bb0ac391",
   "metadata": {},
   "outputs": [
    {
     "name": "stdout",
     "output_type": "stream",
     "text": [
      "--2025-03-20 16:48:10--  https://d37ci6vzurychx.cloudfront.net/trip-data/yellow_tripdata_2023-01.parquet\n",
      "Resolving d37ci6vzurychx.cloudfront.net (d37ci6vzurychx.cloudfront.net)... 18.239.38.83, 18.239.38.147, 18.239.38.163, ...\n",
      "Connecting to d37ci6vzurychx.cloudfront.net (d37ci6vzurychx.cloudfront.net)|18.239.38.83|:443... connected.\n",
      "HTTP request sent, awaiting response... 200 OK\n",
      "Length: 47673370 (45M) [application/x-www-form-urlencoded]\n",
      "Saving to: ‘yellow_tripdata_2023-01.parquet’\n",
      "\n",
      "yellow_tripdata_202 100%[===================>]  45.46M   274MB/s    in 0.2s    \n",
      "\n",
      "2025-03-20 16:48:10 (274 MB/s) - ‘yellow_tripdata_2023-01.parquet’ saved [47673370/47673370]\n",
      "\n"
     ]
    }
   ],
   "source": [
    "!wget https://d37ci6vzurychx.cloudfront.net/trip-data/yellow_tripdata_2023-01.parquet"
   ]
  },
  {
   "cell_type": "code",
   "execution_count": 3,
   "id": "4f083219",
   "metadata": {},
   "outputs": [
    {
     "name": "stdout",
     "output_type": "stream",
     "text": [
      "--2025-03-20 16:48:13--  https://d37ci6vzurychx.cloudfront.net/trip-data/yellow_tripdata_2023-02.parquet\n",
      "Resolving d37ci6vzurychx.cloudfront.net (d37ci6vzurychx.cloudfront.net)... 18.239.38.147, 18.239.38.181, 18.239.38.163, ...\n",
      "Connecting to d37ci6vzurychx.cloudfront.net (d37ci6vzurychx.cloudfront.net)|18.239.38.147|:443... connected.\n",
      "HTTP request sent, awaiting response... 200 OK\n",
      "Length: 47748012 (46M) [application/x-www-form-urlencoded]\n",
      "Saving to: ‘yellow_tripdata_2023-02.parquet’\n",
      "\n",
      "yellow_tripdata_202 100%[===================>]  45.54M   191MB/s    in 0.2s    \n",
      "\n",
      "2025-03-20 16:48:13 (191 MB/s) - ‘yellow_tripdata_2023-02.parquet’ saved [47748012/47748012]\n",
      "\n"
     ]
    }
   ],
   "source": [
    "!wget https://d37ci6vzurychx.cloudfront.net/trip-data/yellow_tripdata_2023-02.parquet"
   ]
  },
  {
   "cell_type": "code",
   "execution_count": 4,
   "id": "5c17758e",
   "metadata": {},
   "outputs": [],
   "source": [
    "import pandas as pd\n",
    "from sklearn.feature_extraction import DictVectorizer\n",
    "from sklearn.linear_model import LinearRegression\n",
    "from sklearn.metrics import mean_squared_error"
   ]
  },
  {
   "cell_type": "code",
   "execution_count": 5,
   "id": "cec2ece8",
   "metadata": {},
   "outputs": [
    {
     "name": "stdout",
     "output_type": "stream",
     "text": [
      "Number of columns: 19\n"
     ]
    }
   ],
   "source": [
    "# Q1 Answer\n",
    "\n",
    "df = pd.read_parquet('./yellow_tripdata_2023-01.parquet')\n",
    "print(\"Number of columns:\",len(df.columns))  # 19"
   ]
  },
  {
   "cell_type": "code",
   "execution_count": 6,
   "id": "d2eb3b72",
   "metadata": {},
   "outputs": [
    {
     "name": "stdout",
     "output_type": "stream",
     "text": [
      "Standard deviation of duration in January: 42.594351241920904\n"
     ]
    }
   ],
   "source": [
    "# Q2 Answer\n",
    "\n",
    "# Duration column in seconds\n",
    "df['duration'] = (df['tpep_dropoff_datetime'] - df['tpep_pickup_datetime']).dt.total_seconds() / 60\n",
    "\n",
    "# Deviation\n",
    "std_duration = df['duration'].std()\n",
    "print(\"Standard deviation of duration in January:\", std_duration) # 42.59"
   ]
  },
  {
   "cell_type": "code",
   "execution_count": 7,
   "id": "a7e15422",
   "metadata": {},
   "outputs": [],
   "source": [
    "def read_dataframe(filename):\n",
    "    if filename.endswith('.csv'):\n",
    "        df = pd.read_csv(filename)\n",
    "        df.tpep_dropoff_datetime = pd.to_datetime(df.tpep_dropoff_datetime)\n",
    "        df.tpep_pickup_datetime = pd.to_datetime(df.tpep_pickup_datetime)\n",
    "    elif filename.endswith('.parquet'):\n",
    "        df = pd.read_parquet(filename)\n",
    "    \n",
    "    df['duration'] = (df.tpep_dropoff_datetime - df.tpep_pickup_datetime).dt.total_seconds() / 60\n",
    "    df = df[(df.duration >= 1) & (df.duration <= 60)]\n",
    "    categorical = ['PULocationID', 'DOLocationID']\n",
    "    df[categorical] = df[categorical].astype(str)\n",
    "    return df"
   ]
  },
  {
   "cell_type": "code",
   "execution_count": 8,
   "id": "c06c07c5",
   "metadata": {},
   "outputs": [],
   "source": [
    "# Load datasets\n",
    "df_train = read_dataframe('./yellow_tripdata_2023-01.parquet')\n",
    "df_val = read_dataframe('./yellow_tripdata_2023-02.parquet')"
   ]
  },
  {
   "cell_type": "code",
   "execution_count": 9,
   "id": "ab7867dc",
   "metadata": {},
   "outputs": [
    {
     "name": "stdout",
     "output_type": "stream",
     "text": [
      "Fraction of remaining records: 98.1220282212598\n"
     ]
    }
   ],
   "source": [
    "# Q3 Answer\n",
    "fraction_left = len(df_train) / len(pd.read_parquet('./yellow_tripdata_2023-01.parquet')) * 100\n",
    "print(\"Fraction of remaining records:\", fraction_left)  # 98%"
   ]
  },
  {
   "cell_type": "code",
   "execution_count": 10,
   "id": "1a0417f5",
   "metadata": {},
   "outputs": [
    {
     "name": "stdout",
     "output_type": "stream",
     "text": [
      "Number of columns in feature matrix: 515\n"
     ]
    }
   ],
   "source": [
    "# Q4 Answer: One-hot encoding\n",
    "features_train = df_train[['PULocationID', 'DOLocationID']].to_dict(orient=\"records\")\n",
    "features_val = df_val[['PULocationID', 'DOLocationID']].to_dict(orient=\"records\")\n",
    "dv = DictVectorizer(sparse=True)\n",
    "X_train = dv.fit_transform(features_train)  # One-hot encoding for training\n",
    "X_val = dv.transform(features_val)          # One-hot encoding for validation\n",
    "print(\"Number of columns in feature matrix:\", X_train.shape[1])  # 515"
   ]
  },
  {
   "cell_type": "code",
   "execution_count": 11,
   "id": "883b95cd",
   "metadata": {},
   "outputs": [
    {
     "name": "stdout",
     "output_type": "stream",
     "text": [
      "RMSE on Training Data: 7.649261027826866\n"
     ]
    }
   ],
   "source": [
    "# Q5 Answer: Train Linear Regression model\n",
    "y_train = df_train['duration'].values\n",
    "lr = LinearRegression()\n",
    "lr.fit(X_train, y_train)\n",
    "y_pred_train = lr.predict(X_train)\n",
    "rmse_train = mean_squared_error(y_train, y_pred_train, squared=False)\n",
    "print(\"RMSE on Training Data:\", rmse_train)  # 7.64"
   ]
  },
  {
   "cell_type": "code",
   "execution_count": 12,
   "id": "59f590f0",
   "metadata": {},
   "outputs": [
    {
     "name": "stdout",
     "output_type": "stream",
     "text": [
      "RMSE on Validation Data: 7.811832641626525\n"
     ]
    }
   ],
   "source": [
    "# Q6 Answer: Evaluate on Validation Data\n",
    "y_val = df_val['duration'].values\n",
    "y_pred_val = lr.predict(X_val)\n",
    "rmse_val = mean_squared_error(y_val, y_pred_val, squared=False)\n",
    "print(\"RMSE on Validation Data:\", rmse_val)  # 7.81"
   ]
  },
  {
   "cell_type": "code",
   "execution_count": null,
   "id": "17a4f922",
   "metadata": {},
   "outputs": [],
   "source": []
  }
 ],
 "metadata": {
  "kernelspec": {
   "display_name": "Python 3 (ipykernel)",
   "language": "python",
   "name": "python3"
  },
  "language_info": {
   "codemirror_mode": {
    "name": "ipython",
    "version": 3
   },
   "file_extension": ".py",
   "mimetype": "text/x-python",
   "name": "python",
   "nbconvert_exporter": "python",
   "pygments_lexer": "ipython3",
   "version": "3.9.12"
  }
 },
 "nbformat": 4,
 "nbformat_minor": 5
}
