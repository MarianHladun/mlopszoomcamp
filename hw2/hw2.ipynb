{
 "cells": [
  {
   "cell_type": "code",
   "execution_count": 10,
   "id": "d0a8f7e0",
   "metadata": {},
   "outputs": [
    {
     "name": "stdout",
     "output_type": "stream",
     "text": [
      "mlflow, version 2.21.3\r\n"
     ]
    }
   ],
   "source": [
    "# Q1\n",
    "\n",
    "!mlflow --version\n",
    "\n",
    "# Q1 Answer: 2.21.3"
   ]
  },
  {
   "cell_type": "code",
   "execution_count": 4,
   "id": "f421ada6",
   "metadata": {},
   "outputs": [
    {
     "name": "stdout",
     "output_type": "stream",
     "text": [
      "--2025-04-09 17:14:04--  https://d37ci6vzurychx.cloudfront.net/trip-data/green_tripdata_2023-01.parquet\n",
      "Resolving d37ci6vzurychx.cloudfront.net (d37ci6vzurychx.cloudfront.net)... 18.239.38.163, 18.239.38.181, 18.239.38.83, ...\n",
      "Connecting to d37ci6vzurychx.cloudfront.net (d37ci6vzurychx.cloudfront.net)|18.239.38.163|:443... connected.\n",
      "HTTP request sent, awaiting response... 200 OK\n",
      "Length: 1427002 (1.4M) [binary/octet-stream]\n",
      "Saving to: ‘green_tripdata_2023-01.parquet’\n",
      "\n",
      "green_tripdata_2023 100%[===================>]   1.36M  --.-KB/s    in 0.007s  \n",
      "\n",
      "2025-04-09 17:14:04 (204 MB/s) - ‘green_tripdata_2023-01.parquet’ saved [1427002/1427002]\n",
      "\n"
     ]
    }
   ],
   "source": [
    "# Q2\n",
    "!wget https://d37ci6vzurychx.cloudfront.net/trip-data/green_tripdata_2023-01.parquet # January 2023"
   ]
  },
  {
   "cell_type": "code",
   "execution_count": 5,
   "id": "405e7808",
   "metadata": {},
   "outputs": [
    {
     "name": "stdout",
     "output_type": "stream",
     "text": [
      "--2025-04-09 17:14:40--  https://d37ci6vzurychx.cloudfront.net/trip-data/green_tripdata_2023-02.parquet\r\n",
      "Resolving d37ci6vzurychx.cloudfront.net (d37ci6vzurychx.cloudfront.net)... 18.239.38.181, 18.239.38.83, 18.239.38.163, ...\r\n",
      "Connecting to d37ci6vzurychx.cloudfront.net (d37ci6vzurychx.cloudfront.net)|18.239.38.181|:443... connected.\r\n",
      "HTTP request sent, awaiting response... 200 OK\r\n",
      "Length: 1533740 (1.5M) [binary/octet-stream]\r\n",
      "Saving to: ‘green_tripdata_2023-02.parquet’\r\n",
      "\r\n",
      "\r",
      "          green_tri   0%[                    ]       0  --.-KB/s               \r",
      "green_tripdata_2023 100%[===================>]   1.46M  --.-KB/s    in 0.006s  \r\n",
      "\r\n",
      "2025-04-09 17:14:40 (250 MB/s) - ‘green_tripdata_2023-02.parquet’ saved [1533740/1533740]\r\n",
      "\r\n"
     ]
    }
   ],
   "source": [
    "!wget https://d37ci6vzurychx.cloudfront.net/trip-data/green_tripdata_2023-02.parquet # February 2023"
   ]
  },
  {
   "cell_type": "code",
   "execution_count": 6,
   "id": "6dffc2e6",
   "metadata": {},
   "outputs": [
    {
     "name": "stdout",
     "output_type": "stream",
     "text": [
      "--2025-04-09 17:14:56--  https://d37ci6vzurychx.cloudfront.net/trip-data/green_tripdata_2023-03.parquet\r\n",
      "Resolving d37ci6vzurychx.cloudfront.net (d37ci6vzurychx.cloudfront.net)... 18.239.38.147, 18.239.38.83, 18.239.38.163, ...\r\n",
      "Connecting to d37ci6vzurychx.cloudfront.net (d37ci6vzurychx.cloudfront.net)|18.239.38.147|:443... connected.\r\n",
      "HTTP request sent, awaiting response... 200 OK\r\n",
      "Length: 1730999 (1.7M) [binary/octet-stream]\r\n",
      "Saving to: ‘green_tripdata_2023-03.parquet’\r\n",
      "\r\n",
      "\r",
      "          green_tri   0%[                    ]       0  --.-KB/s               \r",
      "green_tripdata_2023 100%[===================>]   1.65M  --.-KB/s    in 0.01s   \r\n",
      "\r\n",
      "2025-04-09 17:14:56 (135 MB/s) - ‘green_tripdata_2023-03.parquet’ saved [1730999/1730999]\r\n",
      "\r\n"
     ]
    }
   ],
   "source": [
    "!wget https://d37ci6vzurychx.cloudfront.net/trip-data/green_tripdata_2023-03.parquet # March 2023"
   ]
  },
  {
   "cell_type": "code",
   "execution_count": 7,
   "id": "062dd5e1",
   "metadata": {},
   "outputs": [],
   "source": [
    "!python preprocess_data.py --raw_data_path ./TAXI_DATA --dest_path ./output"
   ]
  },
  {
   "cell_type": "code",
   "execution_count": 9,
   "id": "a49106da",
   "metadata": {},
   "outputs": [
    {
     "name": "stdout",
     "output_type": "stream",
     "text": [
      "total 32\r\n",
      "drwxrwxrwx+ 5 codespace codespace 4096 Apr  9 17:29 .\r\n",
      "drwxrwxrwx+ 5 codespace root      4096 Apr  9 16:53 ..\r\n",
      "drwxrwxrwx+ 2 codespace codespace 4096 Apr  9 17:12 .ipynb_checkpoints\r\n",
      "drwxrwxrwx+ 2 codespace codespace 4096 Apr  9 17:16 TAXI_DATA\r\n",
      "-rw-rw-rw-  1 codespace codespace 5514 Apr  9 17:29 hw2.ipynb\r\n",
      "drwxrwxrwx+ 2 codespace codespace 4096 Apr  9 17:28 output\r\n",
      "-rw-rw-rw-  1 codespace codespace 2509 Apr  9 17:15 preprocess_data.py\r\n",
      "total 7024\r\n",
      "drwxrwxrwx+ 2 codespace codespace    4096 Apr  9 17:28 .\r\n",
      "drwxrwxrwx+ 5 codespace codespace    4096 Apr  9 17:29 ..\r\n",
      "-rw-rw-rw-  1 codespace codespace  131004 Apr  9 17:28 dv.pkl\r\n",
      "-rw-rw-rw-  1 codespace codespace 2458696 Apr  9 17:28 test.pkl\r\n",
      "-rw-rw-rw-  1 codespace codespace 2374516 Apr  9 17:28 train.pkl\r\n",
      "-rw-rw-rw-  1 codespace codespace 2215822 Apr  9 17:28 val.pkl\r\n",
      "total 4596\r\n",
      "drwxrwxrwx+ 2 codespace codespace    4096 Apr  9 17:16 .\r\n",
      "drwxrwxrwx+ 5 codespace codespace    4096 Apr  9 17:29 ..\r\n",
      "-rw-rw-rw-  1 codespace codespace 1427002 Mar 20  2023 green_tripdata_2023-01.parquet\r\n",
      "-rw-rw-rw-  1 codespace codespace 1533740 May  1  2023 green_tripdata_2023-02.parquet\r\n",
      "-rw-rw-rw-  1 codespace codespace 1730999 May 19  2023 green_tripdata_2023-03.parquet\r\n"
     ]
    }
   ],
   "source": [
    "!ls -la && ls -la output && ls -la TAXI_DATA # Q2 Answer: 4"
   ]
  },
  {
   "cell_type": "code",
   "execution_count": 2,
   "id": "2a891a66",
   "metadata": {},
   "outputs": [],
   "source": [
    "# Q3\n",
    "# running from vscode terminal with venv enabled\n",
    "# Q3 Answer: 2"
   ]
  },
  {
   "cell_type": "code",
   "execution_count": null,
   "id": "fae0eb82-991a-42ec-ba5d-ca8b512e9610",
   "metadata": {},
   "outputs": [],
   "source": []
  }
 ],
 "metadata": {
  "kernelspec": {
   "display_name": "Python 3 (ipykernel)",
   "language": "python",
   "name": "python3"
  },
  "language_info": {
   "codemirror_mode": {
    "name": "ipython",
    "version": 3
   },
   "file_extension": ".py",
   "mimetype": "text/x-python",
   "name": "python",
   "nbconvert_exporter": "python",
   "pygments_lexer": "ipython3",
   "version": "3.9.21"
  }
 },
 "nbformat": 4,
 "nbformat_minor": 5
}
